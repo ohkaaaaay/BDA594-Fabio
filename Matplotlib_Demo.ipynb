{
 "cells": [
  {
   "cell_type": "markdown",
   "metadata": {},
   "source": [
    "# Matplotlib Demo\n",
    "![](https://www.unicon.net/sites/default/files/assets/images/blogs/matplotlib_logo.png)\n",
    "**Matplotlib** is a basic tool for data visualization. To compare, it is similar to Excel in creating charts and graphs. However, Matplotlib uses the Python computing language to create these charts and graphs too. While Excel may be easier for the majority to use who don’t have experience with Python, Matplotlib adds scalability and customization.\n",
    "\n",
    "Libraries, like **Seaborn**, can be built on top of Matplotlib. It uses the same foundation of Matplotlib to build data visualization charts, but it is easier to load dataframes and arrays and add further customization (https://seaborn.pydata.org/introduction.html).\n",
    "\n",
    "## Prerequisites\n",
    "![](https://www.python.org/static/community_logos/python-logo-master-v3-TM.png)\n",
    "- **Python 3**: Refer to the following Codecademy article ([\"Installing Python 3 and Python Packages\"](https://www.codecademy.com/articles/install-python3)) on instructions how to download Python using distributions like Anaconda.\n",
    "- **Python Shell** (e.g. IPython)\n",
    "- **Integrated Development Environment (IDE)** (e.g. Jupyter Notebook)\n",
    "\n",
    "## Important Concepts to Learn\n",
    "- How to create a line graph\n",
    "- Formatting the line (color, linestyle, and marker)\n",
    "- Adding a label to the title and axes\n",
    "- Subplots\n",
    "- Changing tick labels and positions\n",
    "- Plotting other charts (e.g. bar)\n",
    "\n",
    "## Matplotlib Plotting Process\n",
    "### Step 1 - Import Matplotlib Into the Environment\n",
    "\n",
    "**Pyplot** is called to help plot graphs and generate figures. It is a set of functions that make Matplotlib work like MATLAB (https://matplotlib.org/tutorials/introductory/pyplot.html).\n",
    "\n",
    "The following line below is needed at the beginning. Also, \"plt\" is added to abbreviate for pyplot so you don't have to type out pyplot when calling a variety of functions."
   ]
  },
  {
   "cell_type": "code",
   "execution_count": 16,
   "metadata": {},
   "outputs": [],
   "source": [
    "from matplotlib import pyplot as plt"
   ]
  },
  {
   "cell_type": "markdown",
   "metadata": {},
   "source": [
    "### Step 2 - Basic Line Plot\n",
    "Listed is the weather for the next ten days in San Diego starting with August 31 to September 9.<br>\n",
    "*Source: [The Weather Channel](https://weather.com/weather/tenday/l/San+Diego+CA?canonicalCityId=cb5c473781cc06501376639dce8f0823a99187dcb42c79471a4303c076d66452)*"
   ]
  },
  {
   "cell_type": "code",
   "execution_count": 17,
   "metadata": {},
   "outputs": [],
   "source": [
    "#x are the values for the x-axis\n",
    "#For now x, is a list from 0-9 to represent the 10 days\n",
    "x = range(10)\n",
    "\n",
    "#y are the values for the y-axis\n",
    "#y is a list of temperatures (F) for each day in San Diego\n",
    "y = [73, 72, 74, 75, 77, 81, 81, 80, 79, 79]\n",
    "\n",
    "#plt.plot(x,y) creates the line graph taking the first argument x and second argument y\n",
    "\n",
    "\n",
    "#plt.show() displays the graph\n",
    "plt.show()"
   ]
  },
  {
   "cell_type": "markdown",
   "metadata": {},
   "source": [
    "#### Mutiple Line Plots\n",
    "We can display multiple line plots at once and add a legend for reference. We also add gridlines for readability. Let's add a second set of temperatures (F) from New York City for the next ten days starting August 31 to September 9.<br>\n",
    "*Source: [Weather Channel](https://weather.com/weather/tenday/l/New+York+City+NY?canonicalCityId=a701ee19c4ab71bbbe2f6ba2fe8c250913883e5ae9b8eee8b54f8efbdb3eec03)*"
   ]
  },
  {
   "cell_type": "code",
   "execution_count": 18,
   "metadata": {},
   "outputs": [
    {
     "data": {
      "image/png": "[encoded data removed]",
      "text/plain": [
       "<Figure size 432x288 with 1 Axes>"
      ]
     },
     "metadata": {
      "needs_background": "light"
     },
     "output_type": "display_data"
    }
   ],
   "source": [
    "#y is a list of temperatures (F) for each day in New York City\n",
    "y2 = [78, 78, 80, 84, 86, 80, 80, 82, 80, 81]\n",
    "\n",
    "#How do we plot both line graphs?\n",
    "\n",
    "\n",
    "#Let's add a legend!\n",
    "plt.legend(['San Diego', 'New York City'])\n",
    "\n",
    "#Let's add gridlines!\n",
    "plt.grid()\n",
    "\n",
    "#How do we display both line plots?\n"
   ]
  },
  {
   "cell_type": "markdown",
   "metadata": {},
   "source": [
    "### Step 3 - Formatting the Lines\n",
    "We can change the line color, linestyle, and the markers as parameters for the plt.plot() function:\n",
    "- **Color** would be inputed as a HEX code (e.g. '#008000') or HTML color name (e.g. 'green').\n",
    "- **Linestyle** can be inputed as dashed('--') or dotted (':'). For more linestyles, look at the [Matplotlib documentation](https://matplotlib.org/gallery/lines_bars_and_markers/line_styles_reference.html).\n",
    "- **Markers** can be inputed at each point as 'o', 's', or '\\*'. For more markers, look at the [Matplotlib documentation](https://matplotlib.org/3.1.1/api/markers_api.html).\n",
    "\n",
    "Let's look at the San Diego weather set again. Here's a line plot with the following conditions:\n",
    "- Color: 'red'\n",
    "- Linestyle: '--'\n",
    "- Marker: 'x'"
   ]
  },
  {
   "cell_type": "code",
   "execution_count": 19,
   "metadata": {},
   "outputs": [
    {
     "data": {
      "image/png": "[encoded data removed]",
      "text/plain": [
       "<Figure size 432x288 with 1 Axes>"
      ]
     },
     "metadata": {
      "needs_background": "light"
     },
     "output_type": "display_data"
    }
   ],
   "source": [
    "#Plot San Diego weather with the following line conditions\n",
    "\n",
    "\n",
    "#Add gridlines\n",
    "plt.grid()\n",
    "\n",
    "#Show plot\n",
    "plt.show()"
   ]
  },
  {
   "cell_type": "markdown",
   "metadata": {},
   "source": [
    "### Step 4 Label the Title and Axes\n",
    "Here are the functions:\n",
    "- **Title**: plt.title('title')\n",
    "- **X-Axis**: plt.xlabel('x_label')\n",
    "- **Y-Axis**: plt.ylabel('y_label')\n",
    "\n",
    "Let's take a look at the San Diego weather set..."
   ]
  },
  {
   "cell_type": "code",
   "execution_count": 20,
   "metadata": {},
   "outputs": [
    {
     "data": {
      "image/png": "[encoded data removed]",
      "text/plain": [
       "<Figure size 432x288 with 1 Axes>"
      ]
     },
     "metadata": {
      "needs_background": "light"
     },
     "output_type": "display_data"
    }
   ],
   "source": [
    "#Plot San Diego weather\n",
    "plt.plot(x, y)\n",
    "\n",
    "#Add gridlines\n",
    "plt.grid()\n",
    "\n",
    "#Label x-axis\n",
    "\n",
    "\n",
    "#Label y-axis\n",
    "\n",
    "\n",
    "#Label title\n",
    "\n",
    "\n",
    "#Show plot\n",
    "plt.show()"
   ]
  },
  {
   "cell_type": "markdown",
   "metadata": {},
   "source": [
    "### Step 5 - Modify Ticks\n",
    "Currently the x-axis for days is only listed from 0-9. What if we want to replace those values with the actual date (e.g. 8/31, 9/1, 9/2, and so on)?\n",
    "\n",
    "We would need to do the following:\n",
    "1. **Create a subplot.** Subplots are when we create multiple graphs/axes in the same picture/figure. For more information on subplots and how to create subplots, refer to the [Matplotlib documentation](https://matplotlib.org/api/_as_gen/matplotlib.pyplot.subplots.html). For the sake of modifying ticks, we need to call for a subplot (even if it's one subplot).\n",
    "2. **Plot the graph.**\n",
    "3. **Set the ticks.**\n",
    "4. **Label the ticks.**"
   ]
  },
  {
   "cell_type": "code",
   "execution_count": 21,
   "metadata": {},
   "outputs": [
    {
     "data": {
      "image/png": "[encoded data removed]",
      "text/plain": [
       "<Figure size 432x288 with 1 Axes>"
      ]
     },
     "metadata": {
      "needs_background": "light"
     },
     "output_type": "display_data"
    }
   ],
   "source": [
    "#Date list to replace 0-9 values\n",
    "date = ['8/31', '9/1', '9/2', '9/3', '9/4', '9/5', '9/6', '9/7', '9/8', '9/9']\n",
    "\n",
    "#Step 1: ax is an axes object to modify axes in a subplot\n",
    "\n",
    "\n",
    "#Step 2: The table still needs to be plotted after calling the subplot\n",
    "plt.plot(x, y)\n",
    "\n",
    "#Add gridlines\n",
    "plt.grid()\n",
    "\n",
    "#Label axes and title\n",
    "plt.xlabel('Days')\n",
    "plt.ylabel('Temperature (F)')\n",
    "plt.title('San Diego 10-Day Weather Forecast')\n",
    "\n",
    "#ax needs to be reference when formatting ticks (in this case adding ticks)\n",
    "#Step 3: set_xticks add the ticks to the x-axis\n",
    "#This can apply to y-axis too as set_yticks\n",
    "\n",
    "\n",
    "#ax still needs to be reference when formatting ticks (in this case labelling ticks)\n",
    "#Step 4: set_xticklabels add the actual label to each tick\n",
    "#This can apply to y-axis too as set_yticklabels\n",
    "\n",
    "\n",
    "#Show plot\n",
    "plt.show()"
   ]
  },
  {
   "cell_type": "markdown",
   "metadata": {},
   "source": [
    "## Plotting Other Charts\n",
    "Plotting other plots like bar graphs and pie charts is similar to plotting line graphs except using a different function. For example:\n",
    "- **Bar graph**: plt.bar(x, y)\n",
    "- **Pie chart**: plt.pie(value)\n",
    "\n",
    "### Bar Graph"
   ]
  },
  {
   "cell_type": "code",
   "execution_count": 22,
   "metadata": {},
   "outputs": [
    {
     "data": {
      "image/png": "[encoded data removed]",
      "text/plain": [
       "<Figure size 432x288 with 1 Axes>"
      ]
     },
     "metadata": {
      "needs_background": "light"
     },
     "output_type": "display_data"
    }
   ],
   "source": [
    "#Call for subplot\n",
    "ax = plt.subplot()\n",
    "\n",
    "#Bar plot of San Diego weather\n",
    "\n",
    "\n",
    "#Label axes and title\n",
    "plt.xlabel('Days')\n",
    "plt.ylabel('Temperature (F)')\n",
    "plt.title('San Diego 10-Day Weather Forecast')\n",
    "\n",
    "#Set the x ticks\n",
    "ax.set_xticks(x)\n",
    "\n",
    "#Label the x ticks\n",
    "ax.set_xticklabels(date)\n",
    "\n",
    "#Show plot\n",
    "plt.show()"
   ]
  },
  {
   "cell_type": "markdown",
   "metadata": {},
   "source": [
    "### Pie Chart\n",
    "The 10-Day Weather forecast wouldn't be the best example to plot a pie chart. Let's instead take a look at how many types of actual pies are available at the Julian Pie Company."
   ]
  },
  {
   "cell_type": "code",
   "execution_count": 23,
   "metadata": {},
   "outputs": [
    {
     "data": {
      "image/png": "[encoded data removed]",
      "text/plain": [
       "<Figure size 432x288 with 1 Axes>"
      ]
     },
     "metadata": {
      "needs_background": "light"
     },
     "output_type": "display_data"
    }
   ],
   "source": [
    "pie_type = ['Apple', 'Apple Crumble', 'Bosenberry', 'Strawberry', 'Blueberry']\n",
    "pie = [12, 9, 16, 11, 7]\n",
    "\n",
    "#Plot pie chart of pies\n",
    "\n",
    "\n",
    "#Add legend\n",
    "plt.legend(pie_type)\n",
    "\n",
    "#Show plot\n",
    "plt.show()"
   ]
  },
  {
   "cell_type": "markdown",
   "metadata": {},
   "source": [
    "\n",
    "## Enhance Use of Matplotlib\n",
    "To enhance Matplotlib futher we can apply Pandas to read CSV files (in this case more data can be loaded). Also, we can incorporate other libraries, like Seaborn, to create different types of statistical charts.\n",
    "\n",
    "An example notebook incorporating Pandas and Seaborn can be found in my Kaggle account under the name [undocumented_immigration_project](https://www.kaggle.com/ekayfabio/undocumented-immigration-project). The notebook was a way to practice Matplotlib with Pandas and Seaborn and apply these skills to actual data retrived from the Department of Homeland Security website.\n",
    "\n",
    "## More Information\n",
    "If you want to practice with this notebook, you can download the .ipynb file off my Github account: [Matplotlib_Demo](https://github.com/ohkaaaaay/BDA594-Fabio/blob/master/Matplotlib_Demo.ipynb).\n",
    "\n",
    "This notebook only scratches the surface about Matplotlib. To learn more about Matplotlib, refer to the [Matplotlib User Guide](https://matplotlib.org/users/index.html)."
   ]
  },
  {
   "cell_type": "code",
   "execution_count": null,
   "metadata": {},
   "outputs": [],
   "source": []
  }
 ],
 "metadata": {
  "kernelspec": {
   "display_name": "Python 3",
   "language": "python",
   "name": "python3"
  },
  "language_info": {
   "codemirror_mode": {
    "name": "ipython",
    "version": 3
   },
   "file_extension": ".py",
   "mimetype": "text/x-python",
   "name": "python",
   "nbconvert_exporter": "python",
   "pygments_lexer": "ipython3",
   "version": "3.7.7"
  }
 },
 "nbformat": 4,
 "nbformat_minor": 4
}
